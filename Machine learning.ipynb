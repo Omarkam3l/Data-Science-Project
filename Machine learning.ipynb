{
 "cells": [
  {
   "cell_type": "code",
   "execution_count": 2,
   "metadata": {},
   "outputs": [],
   "source": [
    "%matplotlib inline\n",
    "import pandas as pd \n",
    "import matplotlib.pyplot as plt\n",
    "import sklearn as sk\n",
    "import numpy as np\n",
    "import seaborn as sns"
   ]
  },
  {
   "cell_type": "code",
   "execution_count": 3,
   "metadata": {},
   "outputs": [
    {
     "data": {
      "text/html": [
       "<div>\n",
       "<style scoped>\n",
       "    .dataframe tbody tr th:only-of-type {\n",
       "        vertical-align: middle;\n",
       "    }\n",
       "\n",
       "    .dataframe tbody tr th {\n",
       "        vertical-align: top;\n",
       "    }\n",
       "\n",
       "    .dataframe thead th {\n",
       "        text-align: right;\n",
       "    }\n",
       "</style>\n",
       "<table border=\"1\" class=\"dataframe\">\n",
       "  <thead>\n",
       "    <tr style=\"text-align: right;\">\n",
       "      <th></th>\n",
       "      <th>Type</th>\n",
       "      <th>Price</th>\n",
       "      <th>Bedrooms</th>\n",
       "      <th>Bathrooms</th>\n",
       "      <th>Area</th>\n",
       "      <th>Furnished</th>\n",
       "      <th>Level</th>\n",
       "      <th>Payment_Option</th>\n",
       "      <th>Delivery_Term</th>\n",
       "      <th>City</th>\n",
       "    </tr>\n",
       "  </thead>\n",
       "  <tbody>\n",
       "    <tr>\n",
       "      <th>0</th>\n",
       "      <td>Penthouse</td>\n",
       "      <td>3000000</td>\n",
       "      <td>3</td>\n",
       "      <td>3</td>\n",
       "      <td>175</td>\n",
       "      <td>No</td>\n",
       "      <td>12</td>\n",
       "      <td>Cash</td>\n",
       "      <td>Semi Finished</td>\n",
       "      <td>Stone Residence</td>\n",
       "    </tr>\n",
       "    <tr>\n",
       "      <th>1</th>\n",
       "      <td>Apartment</td>\n",
       "      <td>4470000</td>\n",
       "      <td>3</td>\n",
       "      <td>2</td>\n",
       "      <td>155</td>\n",
       "      <td>No</td>\n",
       "      <td>2</td>\n",
       "      <td>Installment</td>\n",
       "      <td>Semi Finished</td>\n",
       "      <td>Taj City</td>\n",
       "    </tr>\n",
       "    <tr>\n",
       "      <th>2</th>\n",
       "      <td>Apartment</td>\n",
       "      <td>492000</td>\n",
       "      <td>3</td>\n",
       "      <td>2</td>\n",
       "      <td>282</td>\n",
       "      <td>No</td>\n",
       "      <td>4</td>\n",
       "      <td>Cash</td>\n",
       "      <td>Not Finished</td>\n",
       "      <td>New Cairo - El Tagamoa</td>\n",
       "    </tr>\n",
       "    <tr>\n",
       "      <th>3</th>\n",
       "      <td>Apartment</td>\n",
       "      <td>1855000</td>\n",
       "      <td>3</td>\n",
       "      <td>3</td>\n",
       "      <td>200</td>\n",
       "      <td>No</td>\n",
       "      <td>2</td>\n",
       "      <td>Cash</td>\n",
       "      <td>Core &amp; Shell</td>\n",
       "      <td>Garden Hills</td>\n",
       "    </tr>\n",
       "    <tr>\n",
       "      <th>4</th>\n",
       "      <td>Apartment</td>\n",
       "      <td>410000</td>\n",
       "      <td>2</td>\n",
       "      <td>1</td>\n",
       "      <td>100</td>\n",
       "      <td>No</td>\n",
       "      <td>4</td>\n",
       "      <td>Cash or Installment</td>\n",
       "      <td>Finished</td>\n",
       "      <td>Nakheel</td>\n",
       "    </tr>\n",
       "    <tr>\n",
       "      <th>...</th>\n",
       "      <td>...</td>\n",
       "      <td>...</td>\n",
       "      <td>...</td>\n",
       "      <td>...</td>\n",
       "      <td>...</td>\n",
       "      <td>...</td>\n",
       "      <td>...</td>\n",
       "      <td>...</td>\n",
       "      <td>...</td>\n",
       "      <td>...</td>\n",
       "    </tr>\n",
       "    <tr>\n",
       "      <th>20460</th>\n",
       "      <td>Apartment</td>\n",
       "      <td>6016000</td>\n",
       "      <td>3</td>\n",
       "      <td>2</td>\n",
       "      <td>164</td>\n",
       "      <td>No</td>\n",
       "      <td>2</td>\n",
       "      <td>Cash or Installment</td>\n",
       "      <td>Core &amp; Shell</td>\n",
       "      <td>Galleria Moon Valley</td>\n",
       "    </tr>\n",
       "    <tr>\n",
       "      <th>20461</th>\n",
       "      <td>Apartment</td>\n",
       "      <td>4840000</td>\n",
       "      <td>3</td>\n",
       "      <td>3</td>\n",
       "      <td>176</td>\n",
       "      <td>No</td>\n",
       "      <td>9</td>\n",
       "      <td>Installment</td>\n",
       "      <td>Finished</td>\n",
       "      <td>Camp Caesar</td>\n",
       "    </tr>\n",
       "    <tr>\n",
       "      <th>20462</th>\n",
       "      <td>Apartment</td>\n",
       "      <td>5200000</td>\n",
       "      <td>3</td>\n",
       "      <td>3</td>\n",
       "      <td>175</td>\n",
       "      <td>No</td>\n",
       "      <td>0</td>\n",
       "      <td>Installment</td>\n",
       "      <td>Semi Finished</td>\n",
       "      <td>6th of October</td>\n",
       "    </tr>\n",
       "    <tr>\n",
       "      <th>20463</th>\n",
       "      <td>Apartment</td>\n",
       "      <td>2717000</td>\n",
       "      <td>2</td>\n",
       "      <td>2</td>\n",
       "      <td>161</td>\n",
       "      <td>No</td>\n",
       "      <td>2</td>\n",
       "      <td>Cash or Installment</td>\n",
       "      <td>Finished</td>\n",
       "      <td>New Capital City</td>\n",
       "    </tr>\n",
       "    <tr>\n",
       "      <th>20464</th>\n",
       "      <td>Apartment</td>\n",
       "      <td>700000</td>\n",
       "      <td>2</td>\n",
       "      <td>1</td>\n",
       "      <td>85</td>\n",
       "      <td>No</td>\n",
       "      <td>2</td>\n",
       "      <td>Installment</td>\n",
       "      <td>Finished</td>\n",
       "      <td>Madinaty</td>\n",
       "    </tr>\n",
       "  </tbody>\n",
       "</table>\n",
       "<p>20465 rows × 10 columns</p>\n",
       "</div>"
      ],
      "text/plain": [
       "            Type    Price  Bedrooms  Bathrooms  Area Furnished  Level  \\\n",
       "0      Penthouse  3000000         3          3   175        No     12   \n",
       "1      Apartment  4470000         3          2   155        No      2   \n",
       "2      Apartment   492000         3          2   282        No      4   \n",
       "3      Apartment  1855000         3          3   200        No      2   \n",
       "4      Apartment   410000         2          1   100        No      4   \n",
       "...          ...      ...       ...        ...   ...       ...    ...   \n",
       "20460  Apartment  6016000         3          2   164        No      2   \n",
       "20461  Apartment  4840000         3          3   176        No      9   \n",
       "20462  Apartment  5200000         3          3   175        No      0   \n",
       "20463  Apartment  2717000         2          2   161        No      2   \n",
       "20464  Apartment   700000         2          1    85        No      2   \n",
       "\n",
       "            Payment_Option  Delivery_Term                    City  \n",
       "0                     Cash  Semi Finished         Stone Residence  \n",
       "1              Installment  Semi Finished                Taj City  \n",
       "2                     Cash   Not Finished  New Cairo - El Tagamoa  \n",
       "3                     Cash   Core & Shell            Garden Hills  \n",
       "4      Cash or Installment       Finished                 Nakheel  \n",
       "...                    ...            ...                     ...  \n",
       "20460  Cash or Installment   Core & Shell    Galleria Moon Valley  \n",
       "20461          Installment       Finished             Camp Caesar  \n",
       "20462          Installment  Semi Finished          6th of October  \n",
       "20463  Cash or Installment       Finished        New Capital City  \n",
       "20464          Installment       Finished                Madinaty  \n",
       "\n",
       "[20465 rows x 10 columns]"
      ]
     },
     "execution_count": 3,
     "metadata": {},
     "output_type": "execute_result"
    }
   ],
   "source": [
    "df=pd.read_csv(r'C:\\Users\\client\\Documents\\Datasets\\Data cleaned.csv')\n",
    "df"
   ]
  },
  {
   "cell_type": "code",
   "execution_count": 4,
   "metadata": {},
   "outputs": [],
   "source": [
    "df['target'] = df['Furnished'].map({'Yes': 1, 'No': 0})"
   ]
  },
  {
   "cell_type": "code",
   "execution_count": 5,
   "metadata": {},
   "outputs": [
    {
     "data": {
      "text/html": [
       "<div>\n",
       "<style scoped>\n",
       "    .dataframe tbody tr th:only-of-type {\n",
       "        vertical-align: middle;\n",
       "    }\n",
       "\n",
       "    .dataframe tbody tr th {\n",
       "        vertical-align: top;\n",
       "    }\n",
       "\n",
       "    .dataframe thead th {\n",
       "        text-align: right;\n",
       "    }\n",
       "</style>\n",
       "<table border=\"1\" class=\"dataframe\">\n",
       "  <thead>\n",
       "    <tr style=\"text-align: right;\">\n",
       "      <th></th>\n",
       "      <th>Type</th>\n",
       "      <th>Price</th>\n",
       "      <th>Bedrooms</th>\n",
       "      <th>Bathrooms</th>\n",
       "      <th>Area</th>\n",
       "      <th>Furnished</th>\n",
       "      <th>Level</th>\n",
       "      <th>Payment_Option</th>\n",
       "      <th>Delivery_Term</th>\n",
       "      <th>City</th>\n",
       "      <th>target</th>\n",
       "    </tr>\n",
       "  </thead>\n",
       "  <tbody>\n",
       "    <tr>\n",
       "      <th>0</th>\n",
       "      <td>Penthouse</td>\n",
       "      <td>3000000</td>\n",
       "      <td>3</td>\n",
       "      <td>3</td>\n",
       "      <td>175</td>\n",
       "      <td>No</td>\n",
       "      <td>12</td>\n",
       "      <td>Cash</td>\n",
       "      <td>Semi Finished</td>\n",
       "      <td>Stone Residence</td>\n",
       "      <td>0</td>\n",
       "    </tr>\n",
       "    <tr>\n",
       "      <th>1</th>\n",
       "      <td>Apartment</td>\n",
       "      <td>4470000</td>\n",
       "      <td>3</td>\n",
       "      <td>2</td>\n",
       "      <td>155</td>\n",
       "      <td>No</td>\n",
       "      <td>2</td>\n",
       "      <td>Installment</td>\n",
       "      <td>Semi Finished</td>\n",
       "      <td>Taj City</td>\n",
       "      <td>0</td>\n",
       "    </tr>\n",
       "    <tr>\n",
       "      <th>2</th>\n",
       "      <td>Apartment</td>\n",
       "      <td>492000</td>\n",
       "      <td>3</td>\n",
       "      <td>2</td>\n",
       "      <td>282</td>\n",
       "      <td>No</td>\n",
       "      <td>4</td>\n",
       "      <td>Cash</td>\n",
       "      <td>Not Finished</td>\n",
       "      <td>New Cairo - El Tagamoa</td>\n",
       "      <td>0</td>\n",
       "    </tr>\n",
       "    <tr>\n",
       "      <th>3</th>\n",
       "      <td>Apartment</td>\n",
       "      <td>1855000</td>\n",
       "      <td>3</td>\n",
       "      <td>3</td>\n",
       "      <td>200</td>\n",
       "      <td>No</td>\n",
       "      <td>2</td>\n",
       "      <td>Cash</td>\n",
       "      <td>Core &amp; Shell</td>\n",
       "      <td>Garden Hills</td>\n",
       "      <td>0</td>\n",
       "    </tr>\n",
       "    <tr>\n",
       "      <th>4</th>\n",
       "      <td>Apartment</td>\n",
       "      <td>410000</td>\n",
       "      <td>2</td>\n",
       "      <td>1</td>\n",
       "      <td>100</td>\n",
       "      <td>No</td>\n",
       "      <td>4</td>\n",
       "      <td>Cash or Installment</td>\n",
       "      <td>Finished</td>\n",
       "      <td>Nakheel</td>\n",
       "      <td>0</td>\n",
       "    </tr>\n",
       "    <tr>\n",
       "      <th>...</th>\n",
       "      <td>...</td>\n",
       "      <td>...</td>\n",
       "      <td>...</td>\n",
       "      <td>...</td>\n",
       "      <td>...</td>\n",
       "      <td>...</td>\n",
       "      <td>...</td>\n",
       "      <td>...</td>\n",
       "      <td>...</td>\n",
       "      <td>...</td>\n",
       "      <td>...</td>\n",
       "    </tr>\n",
       "    <tr>\n",
       "      <th>20460</th>\n",
       "      <td>Apartment</td>\n",
       "      <td>6016000</td>\n",
       "      <td>3</td>\n",
       "      <td>2</td>\n",
       "      <td>164</td>\n",
       "      <td>No</td>\n",
       "      <td>2</td>\n",
       "      <td>Cash or Installment</td>\n",
       "      <td>Core &amp; Shell</td>\n",
       "      <td>Galleria Moon Valley</td>\n",
       "      <td>0</td>\n",
       "    </tr>\n",
       "    <tr>\n",
       "      <th>20461</th>\n",
       "      <td>Apartment</td>\n",
       "      <td>4840000</td>\n",
       "      <td>3</td>\n",
       "      <td>3</td>\n",
       "      <td>176</td>\n",
       "      <td>No</td>\n",
       "      <td>9</td>\n",
       "      <td>Installment</td>\n",
       "      <td>Finished</td>\n",
       "      <td>Camp Caesar</td>\n",
       "      <td>0</td>\n",
       "    </tr>\n",
       "    <tr>\n",
       "      <th>20462</th>\n",
       "      <td>Apartment</td>\n",
       "      <td>5200000</td>\n",
       "      <td>3</td>\n",
       "      <td>3</td>\n",
       "      <td>175</td>\n",
       "      <td>No</td>\n",
       "      <td>0</td>\n",
       "      <td>Installment</td>\n",
       "      <td>Semi Finished</td>\n",
       "      <td>6th of October</td>\n",
       "      <td>0</td>\n",
       "    </tr>\n",
       "    <tr>\n",
       "      <th>20463</th>\n",
       "      <td>Apartment</td>\n",
       "      <td>2717000</td>\n",
       "      <td>2</td>\n",
       "      <td>2</td>\n",
       "      <td>161</td>\n",
       "      <td>No</td>\n",
       "      <td>2</td>\n",
       "      <td>Cash or Installment</td>\n",
       "      <td>Finished</td>\n",
       "      <td>New Capital City</td>\n",
       "      <td>0</td>\n",
       "    </tr>\n",
       "    <tr>\n",
       "      <th>20464</th>\n",
       "      <td>Apartment</td>\n",
       "      <td>700000</td>\n",
       "      <td>2</td>\n",
       "      <td>1</td>\n",
       "      <td>85</td>\n",
       "      <td>No</td>\n",
       "      <td>2</td>\n",
       "      <td>Installment</td>\n",
       "      <td>Finished</td>\n",
       "      <td>Madinaty</td>\n",
       "      <td>0</td>\n",
       "    </tr>\n",
       "  </tbody>\n",
       "</table>\n",
       "<p>20465 rows × 11 columns</p>\n",
       "</div>"
      ],
      "text/plain": [
       "            Type    Price  Bedrooms  Bathrooms  Area Furnished  Level  \\\n",
       "0      Penthouse  3000000         3          3   175        No     12   \n",
       "1      Apartment  4470000         3          2   155        No      2   \n",
       "2      Apartment   492000         3          2   282        No      4   \n",
       "3      Apartment  1855000         3          3   200        No      2   \n",
       "4      Apartment   410000         2          1   100        No      4   \n",
       "...          ...      ...       ...        ...   ...       ...    ...   \n",
       "20460  Apartment  6016000         3          2   164        No      2   \n",
       "20461  Apartment  4840000         3          3   176        No      9   \n",
       "20462  Apartment  5200000         3          3   175        No      0   \n",
       "20463  Apartment  2717000         2          2   161        No      2   \n",
       "20464  Apartment   700000         2          1    85        No      2   \n",
       "\n",
       "            Payment_Option  Delivery_Term                    City  target  \n",
       "0                     Cash  Semi Finished         Stone Residence       0  \n",
       "1              Installment  Semi Finished                Taj City       0  \n",
       "2                     Cash   Not Finished  New Cairo - El Tagamoa       0  \n",
       "3                     Cash   Core & Shell            Garden Hills       0  \n",
       "4      Cash or Installment       Finished                 Nakheel       0  \n",
       "...                    ...            ...                     ...     ...  \n",
       "20460  Cash or Installment   Core & Shell    Galleria Moon Valley       0  \n",
       "20461          Installment       Finished             Camp Caesar       0  \n",
       "20462          Installment  Semi Finished          6th of October       0  \n",
       "20463  Cash or Installment       Finished        New Capital City       0  \n",
       "20464          Installment       Finished                Madinaty       0  \n",
       "\n",
       "[20465 rows x 11 columns]"
      ]
     },
     "execution_count": 5,
     "metadata": {},
     "output_type": "execute_result"
    }
   ],
   "source": [
    "df"
   ]
  },
  {
   "cell_type": "code",
   "execution_count": 6,
   "metadata": {},
   "outputs": [
    {
     "name": "stdout",
     "output_type": "stream",
     "text": [
      "<class 'pandas.core.frame.DataFrame'>\n",
      "RangeIndex: 20465 entries, 0 to 20464\n",
      "Data columns (total 11 columns):\n",
      " #   Column          Non-Null Count  Dtype \n",
      "---  ------          --------------  ----- \n",
      " 0   Type            20465 non-null  object\n",
      " 1   Price           20465 non-null  int64 \n",
      " 2   Bedrooms        20465 non-null  int64 \n",
      " 3   Bathrooms       20465 non-null  int64 \n",
      " 4   Area            20465 non-null  int64 \n",
      " 5   Furnished       20465 non-null  object\n",
      " 6   Level           20465 non-null  int64 \n",
      " 7   Payment_Option  20465 non-null  object\n",
      " 8   Delivery_Term   20465 non-null  object\n",
      " 9   City            20465 non-null  object\n",
      " 10  target          20465 non-null  int64 \n",
      "dtypes: int64(6), object(5)\n",
      "memory usage: 1.7+ MB\n"
     ]
    }
   ],
   "source": [
    "df.info()\n"
   ]
  },
  {
   "cell_type": "code",
   "execution_count": 7,
   "metadata": {},
   "outputs": [
    {
     "data": {
      "text/plain": [
       "Type              0\n",
       "Price             0\n",
       "Bedrooms          0\n",
       "Bathrooms         0\n",
       "Area              0\n",
       "Furnished         0\n",
       "Level             0\n",
       "Payment_Option    0\n",
       "Delivery_Term     0\n",
       "City              0\n",
       "target            0\n",
       "dtype: int64"
      ]
     },
     "execution_count": 7,
     "metadata": {},
     "output_type": "execute_result"
    }
   ],
   "source": [
    "df.isna().sum()"
   ]
  },
  {
   "cell_type": "code",
   "execution_count": 8,
   "metadata": {},
   "outputs": [
    {
     "data": {
      "image/png": "[encoded data removed]",
      "text/plain": [
       "<Figure size 640x480 with 1 Axes>"
      ]
     },
     "metadata": {},
     "output_type": "display_data"
    }
   ],
   "source": [
    "plt.hist(df[\"target\"])\n",
    "plt.show()"
   ]
  },
  {
   "cell_type": "code",
   "execution_count": 9,
   "metadata": {},
   "outputs": [],
   "source": [
    "df=df.drop(['Furnished','Type','Payment_Option',\"Delivery_Term\",'City'], axis=1)"
   ]
  },
  {
   "cell_type": "code",
   "execution_count": 10,
   "metadata": {},
   "outputs": [],
   "source": [
    "from sklearn.model_selection import train_test_split\n",
    "from sklearn.ensemble import RandomForestClassifier\n",
    "from sklearn.metrics import accuracy_score,confusion_matrix\n",
    "X = df.drop('target',axis=1)\n",
    "y = df['target']\n",
    "X_train, X_test, y_train, y_test = train_test_split(X, y, test_size=0.3)"
   ]
  },
  {
   "cell_type": "code",
   "execution_count": 20,
   "metadata": {},
   "outputs": [],
   "source": [
    "rf_classifier = RandomForestClassifier()\n",
    "clf=rf_classifier.fit(X_train, y_train)\n",
    "y_pred = clf.predict(X_test)\n"
   ]
  },
  {
   "cell_type": "code",
   "execution_count": 12,
   "metadata": {},
   "outputs": [
    {
     "data": {
      "text/plain": [
       "array([0.46714658, 0.04136621, 0.03389403, 0.32787037, 0.12972282])"
      ]
     },
     "execution_count": 12,
     "metadata": {},
     "output_type": "execute_result"
    }
   ],
   "source": [
    "rf_classifier.feature_importances_"
   ]
  },
  {
   "cell_type": "code",
   "execution_count": 13,
   "metadata": {},
   "outputs": [
    {
     "data": {
      "text/plain": [
       "Index(['Price', 'Bedrooms', 'Bathrooms', 'Area', 'Level', 'target'], dtype='object')"
      ]
     },
     "execution_count": 13,
     "metadata": {},
     "output_type": "execute_result"
    }
   ],
   "source": [
    "df.columns"
   ]
  },
  {
   "cell_type": "code",
   "execution_count": 14,
   "metadata": {},
   "outputs": [
    {
     "data": {
      "text/plain": [
       "array([[5931,   33],\n",
       "       [ 160,   16]], dtype=int64)"
      ]
     },
     "execution_count": 14,
     "metadata": {},
     "output_type": "execute_result"
    }
   ],
   "source": [
    "confusion_matrix(y_test,y_pred)"
   ]
  },
  {
   "cell_type": "code",
   "execution_count": 15,
   "metadata": {},
   "outputs": [
    {
     "name": "stdout",
     "output_type": "stream",
     "text": [
      "Accuracy: 0.97\n"
     ]
    }
   ],
   "source": [
    "accuracy = accuracy_score(y_test, y_pred)\n",
    "print(f\"Accuracy: {accuracy:.2f}\")"
   ]
  },
  {
   "cell_type": "code",
   "execution_count": 22,
   "metadata": {},
   "outputs": [
    {
     "data": {
      "text/plain": [
       "<Axes: >"
      ]
     },
     "execution_count": 22,
     "metadata": {},
     "output_type": "execute_result"
    },
    {
     "data": {
      "image/png": "[encoded data removed]",
      "text/plain": [
       "<Figure size 1000x1000 with 2 Axes>"
      ]
     },
     "metadata": {},
     "output_type": "display_data"
    }
   ],
   "source": [
    "df_num=df\n",
    "corr = df_num.corr()\n",
    "plt.figure(figsize=(10,10))\n",
    "sns.heatmap(corr,annot=True, cmap='coolwarm', vmin=-1, vmax=1)\n"
   ]
  },
  {
   "cell_type": "code",
   "execution_count": 24,
   "metadata": {},
   "outputs": [
    {
     "data": {
      "text/plain": [
       "<Axes: >"
      ]
     },
     "execution_count": 24,
     "metadata": {},
     "output_type": "execute_result"
    },
    {
     "data": {
      "image/png": "[encoded data removed]",
      "text/plain": [
       "<Figure size 640x480 with 2 Axes>"
      ]
     },
     "metadata": {},
     "output_type": "display_data"
    }
   ],
   "source": [
    "\n",
    "sns.heatmap(confusion_matrix(y_test,y_pred) , annot=True , fmt =\"g\")"
   ]
  },
  {
   "cell_type": "code",
   "execution_count": 17,
   "metadata": {},
   "outputs": [
    {
     "data": {
      "text/plain": [
       "array([0.96929518, 0.97278437, 0.9713887 , 0.9713887 , 0.96999302,\n",
       "       0.97346369, 0.97206704, 0.96997207, 0.97067039, 0.96927374])"
      ]
     },
     "execution_count": 17,
     "metadata": {},
     "output_type": "execute_result"
    }
   ],
   "source": [
    "from sklearn.model_selection import cross_val_score #cross validation\n",
    "cross_val_score(rf_classifier,X_train,y_train,cv=10) #returns accuracy score for each fold  "
   ]
  },
  {
   "cell_type": "code",
   "execution_count": 25,
   "metadata": {},
   "outputs": [
    {
     "name": "stdout",
     "output_type": "stream",
     "text": [
      "Predictions: [1]\n"
     ]
    },
    {
     "name": "stderr",
     "output_type": "stream",
     "text": [
      "c:\\Users\\client\\AppData\\Local\\Programs\\Python\\Python312\\Lib\\site-packages\\sklearn\\base.py:465: UserWarning: X does not have valid feature names, but RandomForestClassifier was fitted with feature names\n",
      "  warnings.warn(\n"
     ]
    }
   ],
   "source": [
    "pred = np.array([850000,2 , 1, 135, 1]).reshape(1, -1)\n",
    "predictions = clf.predict(pred)\n",
    "print(\"Predictions:\", predictions)"
   ]
  }
 ],
 "metadata": {
  "kernelspec": {
   "display_name": "Python 3",
   "language": "python",
   "name": "python3"
  },
  "language_info": {
   "codemirror_mode": {
    "name": "ipython",
    "version": 3
   },
   "file_extension": ".py",
   "mimetype": "text/x-python",
   "name": "python",
   "nbconvert_exporter": "python",
   "pygments_lexer": "ipython3",
   "version": "3.12.1"
  }
 },
 "nbformat": 4,
 "nbformat_minor": 2
}
